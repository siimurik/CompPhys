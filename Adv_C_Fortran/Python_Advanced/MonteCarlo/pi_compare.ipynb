{
 "cells": [
  {
   "cell_type": "code",
   "execution_count": 5,
   "metadata": {},
   "outputs": [],
   "source": [
    "import numpy as np\n",
    "import numba\n",
    "import cython\n",
    "import torch"
   ]
  },
  {
   "cell_type": "code",
   "execution_count": 6,
   "metadata": {},
   "outputs": [],
   "source": [
    "# Approach 1: NumPy only\n",
    "def monte_carlo_numpy(nTrials):\n",
    "    x = np.random.rand(nTrials)\n",
    "    y = np.random.rand(nTrials)\n",
    "    inside_circle = (x**2 + y**2) <= 1\n",
    "    return 4 * np.sum(inside_circle) / nTrials\n",
    "\n",
    "# Approach 2: NumPy + Numba\n",
    "@numba.njit\n",
    "def monte_carlo_numpy_numba(nTrials):\n",
    "    x = np.random.rand(nTrials)\n",
    "    y = np.random.rand(nTrials)\n",
    "    inside_circle = (x**2 + y**2) <= 1\n",
    "    return 4 * np.sum(inside_circle) / nTrials\n",
    "\n",
    "# Approach 3: Cython\n",
    "# (Compile it using: python3 setup.py build_ext --inplace)\n",
    "import montecarlopy as mc\n",
    "\n",
    "# Approach 4: PyTorch with GPU\n",
    "def monte_carlo_pytorch(nTrials):\n",
    "    if torch.cuda.is_available():\n",
    "        device = torch.device(\"cuda\")\n",
    "        print(f\"Using GPU: {torch.cuda.get_device_name(0)}\")\n",
    "    else:\n",
    "        device = torch.device(\"cpu\")\n",
    "        print(\"GPU not available, using CPU.\")\n",
    "\n",
    "    XrandCoords = torch.rand(nTrials, device=device) * 2 - 1\n",
    "    YrandCoords = torch.rand(nTrials, device=device) * 2 - 1\n",
    "    inside_circle = (XrandCoords**2 + YrandCoords**2) <= 1\n",
    "    return 4 * torch.sum(inside_circle).item() / nTrials"
   ]
  },
  {
   "cell_type": "code",
   "execution_count": 10,
   "metadata": {},
   "outputs": [
    {
     "name": "stdout",
     "output_type": "stream",
     "text": [
      "Timing NumPy only...\n",
      "CPU times: total: 125 ms\n",
      "Wall time: 281 ms\n",
      "\n",
      "Timing NumPy + Numba...\n",
      "CPU times: total: 93.8 ms\n",
      "Wall time: 173 ms\n",
      "\n",
      "Timing Cython...\n",
      "CPU times: total: 3.2 s\n",
      "Wall time: 5.91 s\n",
      "\n",
      "Timing PyTorch...\n",
      "Using GPU: NVIDIA GeForce GTX 1660 Ti\n",
      "CPU times: total: 156 ms\n",
      "Wall time: 211 ms\n",
      "\n",
      "Results:\n",
      "Pi (NumPy only): 3.1412172\n",
      "Pi (NumPy + Numba): 3.1414684\n",
      "Pi (Cython): 3.1409968\n",
      "Pi (PyTorch): 3.141142\n"
     ]
    }
   ],
   "source": [
    "# Number of trials\n",
    "nTrials = int(1E7)\n",
    "\n",
    "# Timing the execution\n",
    "print(\"Timing NumPy only...\")\n",
    "%time pi_numpy = monte_carlo_numpy(nTrials)\n",
    "\n",
    "print(\"\\nTiming NumPy + Numba...\")\n",
    "%time pi_numpy_numba = monte_carlo_numpy_numba(nTrials)\n",
    "\n",
    "# Uncomment the next line after compiling the Cython module\n",
    "# from monte_carlo_cython import monte_carlo_cython\n",
    "print(\"\\nTiming Cython...\")\n",
    "%time pi_cython = mc.monte_carlo_cython(nTrials)\n",
    "\n",
    "print(\"\\nTiming PyTorch...\")\n",
    "%time pi_pytorch = monte_carlo_pytorch(nTrials)\n",
    "# Print the results\n",
    "print(\"\\nResults:\")\n",
    "print(f\"Pi (NumPy only): {pi_numpy}\")\n",
    "print(f\"Pi (NumPy + Numba): {pi_numpy_numba}\")\n",
    "print(f\"Pi (Cython): {pi_cython}\")\n",
    "print(f\"Pi (PyTorch): {pi_pytorch}\")"
   ]
  },
  {
   "cell_type": "code",
   "execution_count": 8,
   "metadata": {},
   "outputs": [],
   "source": [
    "torch.cuda.empty_cache()"
   ]
  }
 ],
 "metadata": {
  "kernelspec": {
   "display_name": "Python 3",
   "language": "python",
   "name": "python3"
  },
  "language_info": {
   "codemirror_mode": {
    "name": "ipython",
    "version": 3
   },
   "file_extension": ".py",
   "mimetype": "text/x-python",
   "name": "python",
   "nbconvert_exporter": "python",
   "pygments_lexer": "ipython3",
   "version": "3.10.11"
  },
  "orig_nbformat": 4
 },
 "nbformat": 4,
 "nbformat_minor": 2
}
