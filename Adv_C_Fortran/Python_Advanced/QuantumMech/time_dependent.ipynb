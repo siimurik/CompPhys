{
 "cells": [
  {
   "cell_type": "code",
   "execution_count": 1,
   "id": "92ac2d48",
   "metadata": {},
   "outputs": [],
   "source": [
    "import numpy as np\n",
    "import matplotlib.pyplot as plt\n",
    "from matplotlib import animation\n",
    "from matplotlib.animation import PillowWriter\n",
    "import numba\n",
    "from numba import jit\n",
    "from scipy.linalg import eigh_tridiagonal\n",
    "#plt.style.use(['science', 'notebook', 'grid'])"
   ]
  },
  {
   "cell_type": "markdown",
   "id": "427137cb",
   "metadata": {},
   "source": [
    "# The Time-Dependent Schrodinger Equation"
   ]
  },
  {
   "cell_type": "markdown",
   "id": "940500d1",
   "metadata": {},
   "source": [
    "The Time Dependent Schrodinger Equation (in a position basis with infinite boundaries) is \n",
    "\n",
    "$$ i \\hbar \\frac{\\partial}{\\partial t} \\psi(x,t) = -\\frac{\\hbar^2}{2m}\\frac{\\partial^2}{\\partial x^2}\\psi(x,t) + V(x) \\psi(x,t) \\hspace{20mm} \\psi(0, t) = \\psi(L,t)=0 $$\n",
    "\n",
    "We don't need to deal with extra parameters like $m$, $\\hbar$, etc. Multiplying both sides by $mL^2$ where $L$ is the characteristic length of the problem (here we are bounded in length $L$)\n",
    "\n",
    "$$ i mL^2 \\hbar \\frac{\\partial}{\\partial t} \\psi = -\\frac{1}{2}\\hbar^2 L^2\\frac{\\partial^2}{\\partial x^2}\\psi + mL^2V(x) \\psi $$\n",
    "\n",
    "Now choose the convention $\\hbar=1$ (So Joules=1/Seconds) and make the transformation\n",
    "\n",
    "* $x'=\\frac{x}{L}$\n",
    "* $t' = \\frac{t}{mL^2}$\n",
    "* $V' = mL^2V$\n",
    "\n",
    "You can check that with the convention $\\hbar=1$, all of the three quantities above are dimensionless. The Schrodinger equation with respect to these three variables becomes\n",
    "\n",
    "$$ i \\frac{\\partial}{\\partial t'} \\psi = -\\frac{1}{2}\\frac{\\partial^2}{\\partial x'^2}\\psi + V'(x) \\psi $$\n",
    "\n",
    "We solve this equation for $x'$ and $t'$ and then solve for $x$ and $t$ using \n",
    "\n",
    "* $x = Lx'$\n",
    "* $t = (mL^2) t'$\n",
    "* $V = (mL^2)^{-1} V'$\n",
    "\n",
    "**For all the numerical work we will drop the primes on $x'$, $t'$, and $V'$ but know that we are working with the primed quantities**"
   ]
  },
  {
   "cell_type": "markdown",
   "id": "0d97474d-337d-4ec3-9d0f-30b47c260a38",
   "metadata": {},
   "source": [
    "# Technique 1: Finite Difference"
   ]
  },
  {
   "cell_type": "markdown",
   "id": "6cc9c5a0",
   "metadata": {},
   "source": [
    "Choose a discrete grid with spacing $\\Delta x$ and $\\Delta t$ and let $\\psi_j^{m} = \\psi(j\\Delta x, m\\Delta t)$"
   ]
  },
  {
   "cell_type": "markdown",
   "id": "14d28a5f-3456-44c4-9a02-261f652c859b",
   "metadata": {},
   "source": [
    "$$i\\frac{\\psi_{j}^{m+1} - \\psi_{j}^{m}}{\\Delta t} = - \\frac{1}{2}\\frac{\\psi_{j+1}^{m} -2\\psi_j^m + \\psi_{j-1}^{m}}{\\Delta x^2} +V(x)\\psi_j^m$$ "
   ]
  },
  {
   "cell_type": "markdown",
   "id": "09fb291c-9ee2-4ef2-9bd4-67837c3ae95e",
   "metadata": {},
   "source": [
    "Rearrange the equation"
   ]
  },
  {
   "cell_type": "markdown",
   "id": "db41b98f-6b54-4e35-8028-422cc8d26509",
   "metadata": {},
   "source": [
    "$$\\psi_{j}^{m+1} = \\psi_j^m + \\frac{i}{2}\\frac{\\Delta t}{\\Delta x^2}\\left(\\psi_{j+1}^{m} -2\\psi_j^m + \\psi_{j-1}^{m}\\right) - i \\Delta tV(x)\\psi_j^m$$ "
   ]
  },
  {
   "cell_type": "markdown",
   "id": "5d0e1f6d-8602-4c88-ad3a-709b24ce9789",
   "metadata": {},
   "source": [
    "# Technique 2: Eigenstate Evolution"
   ]
  },
  {
   "cell_type": "markdown",
   "id": "d6ef03d7-24a6-443f-beab-acfb52202538",
   "metadata": {},
   "source": [
    "Find the $\\psi_j$ and $E_j$'s that satisfy\n",
    "\n",
    "$$ -\\frac{1}{2}\\frac{\\partial^2}{\\partial x^2}\\psi + V(x) \\psi = E\\psi$$"
   ]
  },
  {
   "cell_type": "markdown",
   "id": "3d10922b-d5b2-4f3a-ba4b-abfbf0a1f719",
   "metadata": {},
   "source": [
    "And then\n",
    "\n",
    "$$\\psi(x,t) = \\sum_{j=0}^\\infty c_j \\psi_j(x) e^{-i E_j t} \\hspace{20mm} c_j = \\int_{-\\infty}^{\\infty} \\psi(x, 0)\\psi_j^*(x) dx$$"
   ]
  },
  {
   "cell_type": "markdown",
   "id": "1f336202-85be-4a99-9e43-f2875c350bcd",
   "metadata": {},
   "source": [
    "# Technique 1"
   ]
  },
  {
   "cell_type": "markdown",
   "id": "7af1ae3b",
   "metadata": {},
   "source": [
    "Define all parameters of interest."
   ]
  },
  {
   "cell_type": "code",
   "execution_count": 2,
   "id": "f628c62a",
   "metadata": {},
   "outputs": [],
   "source": [
    "Nx = 301    # have to be integers, to defione psi(x,t) dimension\n",
    "Nt = 100000 # have to be integers, to defione psi(x,t) dimension\n",
    "dx = 1./(Nx-1)\n",
    "dt = 1e-7\n",
    "x  = np.linspace(0, 1, Nx) "
   ]
  },
  {
   "cell_type": "markdown",
   "id": "6d8e09a2",
   "metadata": {},
   "source": [
    "Initial wave $\\psi_0$ is a sine wave:\n",
    "\n",
    "$$ \\psi_0 = \\sqrt{2} \\sin{\\left(\\pi x\\right)}$$\n",
    "\n",
    "Potential is a Gaussian well:\n",
    "\n",
    "$$ V(x) = -10^4 \\exp{\\left(-\\frac{\\left(x - \\mu\\right)^{2}}{2 \\sigma^{2}}\\right)} $$\n",
    "$$\\mu = \\frac{1}{2} \\hspace{20mm} \\sigma = \\frac{1}{20}$$"
   ]
  },
  {
   "cell_type": "code",
   "execution_count": 3,
   "id": "e1d467a1-1a6f-464d-82b1-cfacacba149d",
   "metadata": {},
   "outputs": [],
   "source": [
    "psi0 = np.sqrt(2) * np.sin(np.pi*x)\n",
    "mu, sigma = 1./2., 1./20.\n",
    "V = -1e4*np.exp(-(x-mu)**2/(2*sigma**2))"
   ]
  },
  {
   "cell_type": "markdown",
   "id": "4f521cc4",
   "metadata": {},
   "source": [
    "Making sure $\\psi_0$ is normalized."
   ]
  },
  {
   "cell_type": "code",
   "execution_count": 4,
   "id": "8252a996",
   "metadata": {},
   "outputs": [
    {
     "data": {
      "text/plain": [
       "1.0"
      ]
     },
     "execution_count": 4,
     "metadata": {},
     "output_type": "execute_result"
    }
   ],
   "source": [
    "np.sum(np.absolute(psi0)**2)*dx"
   ]
  },
  {
   "cell_type": "markdown",
   "id": "e3b3079e",
   "metadata": {},
   "source": [
    "Look at $dt/dx^2$ (this parameter should be small for the finite difference method to work)."
   ]
  },
  {
   "cell_type": "code",
   "execution_count": 5,
   "id": "671bd2f7-6557-4c7f-ac30-902396a94fda",
   "metadata": {},
   "outputs": [
    {
     "data": {
      "text/plain": [
       "0.008999999999999998"
      ]
     },
     "execution_count": 5,
     "metadata": {},
     "output_type": "execute_result"
    }
   ],
   "source": [
    "dt/dx**2    # found by trial and error, but has to be small"
   ]
  },
  {
   "cell_type": "markdown",
   "id": "83817792",
   "metadata": {},
   "source": [
    "The (dimensionless) potential we examine here is\n",
    "\n",
    "$$V(x) = -10^4 \\exp{\\left(\\frac{-(x-L/2)^2}{2(L/20)^2}\\right)}$$\n",
    "\n",
    "which is essentially just a normal curve which can be specified more simply as $V(x) = -n(x, \\mu=L/2, \\sigma=L/20)$"
   ]
  },
  {
   "cell_type": "code",
   "execution_count": 6,
   "id": "e9328daa-4cd6-48c1-acb7-9f4da4f2cebe",
   "metadata": {},
   "outputs": [
    {
     "data": {
      "text/plain": [
       "Text(0, 0.5, '$V(x)$')"
      ]
     },
     "execution_count": 6,
     "metadata": {},
     "output_type": "execute_result"
    },
    {
     "data": {
      "image/png": "[encoded data removed]",
      "text/plain": [
       "<Figure size 576x216 with 1 Axes>"
      ]
     },
     "metadata": {
      "needs_background": "light"
     },
     "output_type": "display_data"
    }
   ],
   "source": [
    "plt.figure(figsize=(8,3))\n",
    "plt.plot(x,V)\n",
    "plt.grid()\n",
    "plt.xlabel('$x$')\n",
    "plt.ylabel('$V(x)$')"
   ]
  },
  {
   "cell_type": "markdown",
   "id": "715646f6",
   "metadata": {},
   "source": [
    "Construct the array of $\\psi(x,t)$ (two dimensions: one for $x$ and one for $t$)"
   ]
  },
  {
   "cell_type": "code",
   "execution_count": 7,
   "id": "8a39b065",
   "metadata": {},
   "outputs": [],
   "source": [
    "psi     = np.zeros([Nt, Nx])\n",
    "psi[0]  = psi0 "
   ]
  },
  {
   "cell_type": "code",
   "execution_count": 8,
   "id": "8978d314",
   "metadata": {},
   "outputs": [
    {
     "data": {
      "text/plain": [
       "array([[0.00000000e+00, 1.48093391e-02, 2.96170542e-02, ...,\n",
       "        2.96170542e-02, 1.48093391e-02, 1.73191211e-16],\n",
       "       [0.00000000e+00, 0.00000000e+00, 0.00000000e+00, ...,\n",
       "        0.00000000e+00, 0.00000000e+00, 0.00000000e+00],\n",
       "       [0.00000000e+00, 0.00000000e+00, 0.00000000e+00, ...,\n",
       "        0.00000000e+00, 0.00000000e+00, 0.00000000e+00],\n",
       "       ...,\n",
       "       [0.00000000e+00, 0.00000000e+00, 0.00000000e+00, ...,\n",
       "        0.00000000e+00, 0.00000000e+00, 0.00000000e+00],\n",
       "       [0.00000000e+00, 0.00000000e+00, 0.00000000e+00, ...,\n",
       "        0.00000000e+00, 0.00000000e+00, 0.00000000e+00],\n",
       "       [0.00000000e+00, 0.00000000e+00, 0.00000000e+00, ...,\n",
       "        0.00000000e+00, 0.00000000e+00, 0.00000000e+00]])"
      ]
     },
     "execution_count": 8,
     "metadata": {},
     "output_type": "execute_result"
    }
   ],
   "source": [
    "psi"
   ]
  },
  {
   "cell_type": "markdown",
   "id": "30a68234",
   "metadata": {},
   "source": [
    "Numba algorithm to implement the  forward finite difference method\n",
    "\n",
    "$$\\psi_{j}^{m+1} = \\psi_j^m + \\frac{i}{2}\\frac{\\Delta t}{\\Delta x^2}\\left(\\psi_{j+1}^{m} -2\\psi_j^m + \\psi_{j-1}^{m}\\right) - i \\Delta tV(x)\\psi_j^m$$ "
   ]
  },
  {
   "cell_type": "code",
   "execution_count": 9,
   "id": "e4835a7f-4c92-4716-95f0-647df2a37e53",
   "metadata": {},
   "outputs": [],
   "source": [
    "@numba.jit(\"c16[:,:](c16[:,:])\", nopython=True, nogil=True) # takes in complex values and gives complex out\n",
    "def compute_psi(psi):                                       # using numba is like 90 times faster\n",
    "    for t in range(0, Nt-1):\n",
    "        for i in range(1, Nx-1):\n",
    "            psi[t+1][i] = psi[t][i] + 1j/2*dt/dx**2*(psi[t][i+1]-2*psi[t][i]+psi[t][i-1]) - 1j*dt*V[i]*psi[t][i]\n",
    "\n",
    "        normal = np.sum(np.absolute(psi[t+1])**2)*dx    # for fomralizing\n",
    "        for i in range(1, Nx-1):\n",
    "            psi[t+1][i] = psi[t+1][i]/normal            # making sure it stays normalized\n",
    "\n",
    "    return psi"
   ]
  },
  {
   "cell_type": "code",
   "execution_count": 10,
   "id": "24676dc2",
   "metadata": {},
   "outputs": [
    {
     "data": {
      "text/plain": [
       "'\\ndef compute_psi_cent(psi):\\n    for t in range(0, Nt-1):\\n        for i in range(1, Nx-1):\\n            psi[t+1][i] = psi[t][i] + 1j/2*dt/dx**2*(psi[t][i+1]-2*psi[t][i]+psi[t][i-1]) - 1j*dt*V[i]*psi[t][i]\\n\\n        normal = np.sum(np.absolute(psi[t+1])**2)*dx    # for formalizing\\n        for i in range(1, Nx-1):\\n            psi[t+1][i] = psi[t+1][i]/normal            # making sure it stays normalized\\n\\n    return psi\\n\\npsi_m1c = compute_psi_cent(psi.astype(complex))'"
      ]
     },
     "execution_count": 10,
     "metadata": {},
     "output_type": "execute_result"
    }
   ],
   "source": [
    "# without numba it takes a full minute and 30 seconds!!!\n",
    "#j = np.lib.scimath.sqrt(-1)\n",
    "\"\"\"\n",
    "def compute_psi_cent(psi):\n",
    "    for t in range(0, Nt-1):\n",
    "        for i in range(1, Nx-1):\n",
    "            psi[t+1][i] = psi[t][i] + 1j/2*dt/dx**2*(psi[t][i+1]-2*psi[t][i]+psi[t][i-1]) - 1j*dt*V[i]*psi[t][i]\n",
    "\n",
    "        normal = np.sum(np.absolute(psi[t+1])**2)*dx    # for formalizing\n",
    "        for i in range(1, Nx-1):\n",
    "            psi[t+1][i] = psi[t+1][i]/normal            # making sure it stays normalized\n",
    "\n",
    "    return psi\n",
    "\n",
    "psi_m1c = compute_psi_cent(psi.astype(complex))\"\"\"\n"
   ]
  },
  {
   "cell_type": "markdown",
   "id": "8c334f6c",
   "metadata": {},
   "source": [
    "Compute $\\psi(x,t)$ using method 1 (so we label m1)"
   ]
  },
  {
   "cell_type": "code",
   "execution_count": 11,
   "id": "d1a7ced4-c88e-4dc9-9e24-432cdc1a83b4",
   "metadata": {},
   "outputs": [],
   "source": [
    "psi_m1 = compute_psi(psi.astype(complex))"
   ]
  },
  {
   "cell_type": "code",
   "execution_count": 12,
   "id": "3ba57bb5",
   "metadata": {},
   "outputs": [
    {
     "data": {
      "text/plain": [
       "100000"
      ]
     },
     "execution_count": 12,
     "metadata": {},
     "output_type": "execute_result"
    }
   ],
   "source": [
    "len(psi_m1)"
   ]
  },
  {
   "cell_type": "markdown",
   "id": "317dda52",
   "metadata": {},
   "source": [
    "Plot for some given $m=10000$ (the dimensionless time is $t=m\\Delta t$)"
   ]
  },
  {
   "cell_type": "code",
   "execution_count": 13,
   "id": "975b4c19-9570-4bb8-8dac-90c58fa8fe1a",
   "metadata": {},
   "outputs": [
    {
     "name": "stdout",
     "output_type": "stream",
     "text": [
      "0.9999999995490538\n"
     ]
    },
    {
     "data": {
      "image/png": "[encoded data removed]",
      "text/plain": [
       "<Figure size 432x288 with 1 Axes>"
      ]
     },
     "metadata": {
      "needs_background": "light"
     },
     "output_type": "display_data"
    }
   ],
   "source": [
    "dimless_t = 10000\n",
    "plt.plot(x, np.absolute(psi_m1[dimless_t])**2)\n",
    "plt.grid()\n",
    "normal = np.sum(np.absolute(psi_m1[dimless_t])**2)*dx\n",
    "print(normal)"
   ]
  },
  {
   "cell_type": "markdown",
   "id": "27dc9b2d",
   "metadata": {},
   "source": [
    "Time for first time moment $t = 0$"
   ]
  },
  {
   "cell_type": "code",
   "execution_count": 14,
   "id": "6f3644ee",
   "metadata": {},
   "outputs": [
    {
     "name": "stdout",
     "output_type": "stream",
     "text": [
      "1.0\n"
     ]
    },
    {
     "data": {
      "image/png": "[encoded data removed]",
      "text/plain": [
       "<Figure size 432x288 with 1 Axes>"
      ]
     },
     "metadata": {
      "needs_background": "light"
     },
     "output_type": "display_data"
    }
   ],
   "source": [
    "plt.plot(x, np.absolute(psi_m1[0])**2)\n",
    "plt.grid()\n",
    "normal = np.sum(np.absolute(psi_m1[0])**2)*dx\n",
    "print(normal)"
   ]
  },
  {
   "cell_type": "markdown",
   "id": "bdf6e374",
   "metadata": {},
   "source": [
    "# Technique 2"
   ]
  },
  {
   "cell_type": "markdown",
   "id": "c282b02c",
   "metadata": {},
   "source": [
    "Create the grid and define the initial condition $\\psi(x,0)$"
   ]
  },
  {
   "cell_type": "code",
   "execution_count": 15,
   "id": "cfaaaeb7",
   "metadata": {},
   "outputs": [],
   "source": [
    "Nx = 301\n",
    "dx = 1/(Nx-1)\n",
    "x = np.linspace(0, 1, Nx)\n",
    "psi0 = np.sqrt(2)*np.sin(np.pi*x)\n",
    "\n",
    "def V(x):\n",
    "    mu, sigma = 1/2, 1/20\n",
    "    return -1e4*np.exp(-(x-mu)**2/(2*sigma**2))\n",
    "\n"
   ]
  },
  {
   "cell_type": "markdown",
   "id": "a1f66d35",
   "metadata": {},
   "source": [
    "Define the tridiagonal matrix required for solving for the eigenstates (see https://www.youtube.com/watch?v=ay0zZ8SUMSk for solving the time-independent Schrodinger equation, which is what we're doing here)"
   ]
  },
  {
   "cell_type": "code",
   "execution_count": 16,
   "id": "396df6a1",
   "metadata": {},
   "outputs": [],
   "source": [
    "d = 1./dx**2 + V(x)[1:-1]\n",
    "e = -1./(2*dx**2) * np.ones(len(d)-1)\n",
    "w, v = eigh_tridiagonal(d, e)   # Solve eigenvalue problem for a real symmetric tridiagonal matrix."
   ]
  },
  {
   "cell_type": "markdown",
   "id": "f65e9a79",
   "metadata": {},
   "source": [
    "First energy eigenstate"
   ]
  },
  {
   "cell_type": "code",
   "execution_count": 17,
   "id": "5276feff",
   "metadata": {},
   "outputs": [
    {
     "data": {
      "image/png": "[encoded data removed]",
      "text/plain": [
       "<Figure size 432x288 with 1 Axes>"
      ]
     },
     "metadata": {
      "needs_background": "light"
     },
     "output_type": "display_data"
    }
   ],
   "source": [
    "plt.plot(x[1:-1], v.T[0])   # try also v.T[2]\n",
    "plt.grid()"
   ]
  },
  {
   "cell_type": "markdown",
   "id": "9597bfa4",
   "metadata": {},
   "source": [
    "Compute eigenstates $\\psi_j$ and eigen-energies $E_j$, and use $$\\psi(x,t) = \\sum_{j=0}^\\infty c_j \\psi_j(x) e^{-i E_j t} \\hspace{20mm} c_j = \\int_{-\\infty}^{\\infty} \\psi(x, 0)\\psi_j^*(x) dx$$ to get the $\\psi(x,t)$"
   ]
  },
  {
   "cell_type": "code",
   "execution_count": 18,
   "id": "5b1788b6",
   "metadata": {},
   "outputs": [],
   "source": [
    "E_js    = w[0:70]\n",
    "psi_js  = np.pad(v.T[0:70], [(0, 0), (1, 1)], mode='constant')   # takes every array and 'pads' the first and last values in every array equal to zero\n",
    "cs      = np.dot(psi_js, psi0)\n",
    "def psi_m2(t):\n",
    "    return psi_js.T@(cs*np.exp(-1j*E_js*t))"
   ]
  },
  {
   "cell_type": "markdown",
   "id": "13ae9b24",
   "metadata": {},
   "source": [
    "Plot the energy at time $t = 10000 \\Delta t$"
   ]
  },
  {
   "cell_type": "code",
   "execution_count": 19,
   "id": "7322d761",
   "metadata": {},
   "outputs": [
    {
     "data": {
      "image/png": "[encoded data removed]",
      "text/plain": [
       "<Figure size 576x216 with 1 Axes>"
      ]
     },
     "metadata": {
      "needs_background": "light"
     },
     "output_type": "display_data"
    }
   ],
   "source": [
    "plt.figure(figsize=(8,3))\n",
    "plt.plot(x, psi0**2)\n",
    "plt.plot(x, np.absolute(psi_m2(10000*dt))**2)\n",
    "plt.grid()"
   ]
  },
  {
   "cell_type": "markdown",
   "id": "3e004f04",
   "metadata": {},
   "source": [
    "# Animation"
   ]
  },
  {
   "cell_type": "markdown",
   "id": "a6c1219e",
   "metadata": {},
   "source": [
    "Now we make an animation that shows the results of the two techniques, and that they give the same result."
   ]
  },
  {
   "cell_type": "code",
   "execution_count": 20,
   "id": "7e809683",
   "metadata": {},
   "outputs": [
    {
     "data": {
      "image/png": "[encoded data removed]",
      "text/plain": [
       "<Figure size 576x288 with 1 Axes>"
      ]
     },
     "metadata": {
      "needs_background": "light"
     },
     "output_type": "display_data"
    }
   ],
   "source": [
    "def animate(i):\n",
    "    ln1.set_data(x, np.absolute(psi_m1[100*i])**2)\n",
    "    ln2.set_data(x, np.absolute(psi_m2(100*i*dt))**2)\n",
    "    time_text.set_text('$(10^4 mL^2)^{-1}t=$'+'{:.1f}'.format(100*i*dt*1e4))\n",
    "    \n",
    "fig, ax = plt.subplots(1,1, figsize=(8,4))\n",
    "#ax.grid()\n",
    "ln1, = plt.plot([], [], 'r-', lw=2, markersize=8, label='Method 1')\n",
    "ln2, = plt.plot([], [], 'b--', lw=3, markersize=8, label='Method 2')\n",
    "time_text = ax.text(0.65, 16, '', fontsize=15,\n",
    "           bbox=dict(facecolor='white', edgecolor='black'))\n",
    "ax.set_ylim(-1, 20)\n",
    "ax.set_xlim(0,1)\n",
    "ax.set_ylabel('$|\\psi(x)|^2$', fontsize=20)\n",
    "ax.set_xlabel('$x/L$', fontsize=20)\n",
    "ax.legend(loc='upper left')\n",
    "ax.set_title('$(mL^2)V(x) = -10^4 \\cdot n(x, \\mu=L/2, \\sigma=L/20)$')\n",
    "plt.tight_layout()\n",
    "plt.grid()\n",
    "ani = animation.FuncAnimation(fig, animate, frames=1000, interval=50)\n",
    "ani.save('pen.gif',writer='pillow',fps=50,dpi=100)"
   ]
  },
  {
   "cell_type": "markdown",
   "id": "602ef553",
   "metadata": {},
   "source": [
    "# How to Get Things in SI Units?\n",
    "\n",
    "We're currently in the unit system $\\hbar=1$ but what if we want to go back to SI units?\n",
    "\n",
    "\n",
    "## Potential \n",
    "$$(mL^2)V(x) = -10^4 \\cdot n(x, \\mu=L/2, \\sigma=L/20)$$ \n",
    "\n",
    "The RHS is dimensionless. In order to make the left side dimensionless (which in SI currently has units of $J^2 s^2$) we need to divide by $\\hbar^2$, so\n",
    "\n",
    "$$(mL^2/\\hbar^2)V(x) = -10^4 \\cdot n(x, \\mu=L/2, \\sigma=L/20)$$\n",
    "\n",
    "or\n",
    "\n",
    "$$\\boxed{V(x) = \\left(\\frac{-10^4 \\hbar^2}{mL^2}\\right) n(x, \\mu=L/2, \\sigma=L/20)}$$\n",
    "\n",
    "## Time\n",
    "$$(10^4 mL^2)^{-1}t= a$$\n",
    "\n",
    "where $a$ is some dimensionless number. In order to make the LHS dimensionless (which currently has units of $J^{-1}s^{-1}$) we need to multiply by $\\hbar$, leading to\n",
    "\n",
    "$$\\hbar (10^4 mL^2)^{-1}t= a$$\n",
    "\n",
    "or \n",
    "\n",
    "$$\\boxed{t= \\left(\\frac{10^4 mL^2}{\\hbar}\\right)a}$$\n",
    "\n",
    "## Conclusion\n",
    "\n",
    "You tell me what $m$ and $L$ are, and all I need to do is look at that plot and I can determine the wave function at any time."
   ]
  },
  {
   "cell_type": "code",
   "execution_count": 21,
   "id": "a1afefac",
   "metadata": {},
   "outputs": [
    {
     "name": "stdout",
     "output_type": "stream",
     "text": [
      "1.2956989113518099e-11\n"
     ]
    }
   ],
   "source": [
    "me   = 9.109383701528000e-31\n",
    "L    = 1.0*10**-10\n",
    "hbar = 1.054571817e-34\n",
    "a    = 15.0\n",
    "true_time = (1e4*me*L**2/hbar)*a\n",
    "print(true_time)"
   ]
  }
 ],
 "metadata": {
  "kernelspec": {
   "display_name": "Python 3.10.7 64-bit",
   "language": "python",
   "name": "python3"
  },
  "language_info": {
   "codemirror_mode": {
    "name": "ipython",
    "version": 3
   },
   "file_extension": ".py",
   "mimetype": "text/x-python",
   "name": "python",
   "nbconvert_exporter": "python",
   "pygments_lexer": "ipython3",
   "version": "3.10.7"
  },
  "vscode": {
   "interpreter": {
    "hash": "916dbcbb3f70747c44a77c7bcd40155683ae19c65e1c03b4aa3499c5328201f1"
   }
  }
 },
 "nbformat": 4,
 "nbformat_minor": 5
}
