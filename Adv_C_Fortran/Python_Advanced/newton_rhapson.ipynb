{
 "cells": [
  {
   "cell_type": "code",
   "execution_count": 13,
   "metadata": {},
   "outputs": [],
   "source": [
    "import autograd as ad\n",
    "\n",
    "from autograd import grad, jacobian\n",
    "import autograd.numpy as np"
   ]
  },
  {
   "cell_type": "code",
   "execution_count": 14,
   "metadata": {},
   "outputs": [
    {
     "data": {
      "text/plain": [
       "array([270., 675.])"
      ]
     },
     "execution_count": 14,
     "metadata": {},
     "output_type": "execute_result"
    }
   ],
   "source": [
    "def myfunc(x):\n",
    "    return x[0]**2*x[1]**3\n",
    "\n",
    "z = np.array([5,3],dtype=float)\n",
    "\n",
    "jacobian_func = jacobian(myfunc)\n",
    "jacobian_func(z)"
   ]
  },
  {
   "cell_type": "markdown",
   "metadata": {},
   "source": [
    "### Linear System of Equations\n",
    "$$\n",
    "x-2y+3z=7 \\\\\n",
    "2x + y + z = 4 \\\\\n",
    "-3x + 2y -2z = -10\n",
    "$$\n",
    "\n",
    "### Solution:\n",
    "$$\n",
    "\\left(x,y,z\\right) = \\left(2,-1,1\\right)\n",
    "$$"
   ]
  },
  {
   "cell_type": "code",
   "execution_count": 15,
   "metadata": {},
   "outputs": [],
   "source": [
    "func1 = lambda x:    x[0] - 2*x[1] + 3*x[2] - 7\n",
    "func2 = lambda x:  2*x[0] -   x[1] +   x[2] - 4\n",
    "func3 = lambda x: -3*x[0] - 2*x[1] - 2*x[2] + 10\n"
   ]
  },
  {
   "cell_type": "code",
   "execution_count": 16,
   "metadata": {},
   "outputs": [],
   "source": [
    "jac_func1 = jacobian(func1)\n",
    "jac_func2 = jacobian(func2)\n",
    "jac_func3 = jacobian(func3)\n"
   ]
  },
  {
   "cell_type": "markdown",
   "metadata": {},
   "source": [
    "### Multivariate Case: Newton Rhapson Updating Rule\n",
    "  $$\n",
    "  \\left[ {\\begin{array}{cc}\n",
    "    x_1 \\\\\n",
    "    . \\\\\n",
    "    . \\\\\n",
    "    .\\\\\n",
    "    x_N\n",
    "  \\end{array} } \\right] = \n",
    "    \\left[ {\\begin{array}{cc}\n",
    "    x_1 \\\\\n",
    "    . \\\\\n",
    "    . \\\\\n",
    "    .\\\\\n",
    "    x_M\n",
    "  \\end{array} } \\right]_{N \\cdot 1} - \n",
    "    \\left[ {\\begin{array}{cc}\n",
    "    J^{-1}(x_n)\n",
    "  \\end{array} } \\right]_{N \\cdot M}\n",
    "    \\left[ {\\begin{array}{cc}\n",
    "    f_1(x_n) \\\\\n",
    "    . \\\\\n",
    "    . \\\\\n",
    "    .\\\\\n",
    "    f_M(x_N)\n",
    "  \\end{array} } \\right]_{M \\cdot 1}\n",
    "  $$"
   ]
  },
  {
   "cell_type": "code",
   "execution_count": 17,
   "metadata": {},
   "outputs": [
    {
     "name": "stdout",
     "output_type": "stream",
     "text": [
      "0\n",
      "[[ 0.15789474]\n",
      " [-0.21052632]\n",
      " [ 1.47368421]]\n",
      "----------\n",
      "1\n",
      "[[-4.44089210e-16]\n",
      " [ 3.33066907e-16]\n",
      " [ 4.44089210e-16]]\n",
      "----------\n",
      "The solution is\n",
      " [[1.15789474]\n",
      " [0.78947368]\n",
      " [2.47368421]] \n",
      "Eq-1 [0.] \n",
      "Eq-2 [0.] \n",
      "Eq-3 [0.]\n"
     ]
    }
   ],
   "source": [
    "i = 0\n",
    "error   = 100\n",
    "tol     = 1e-8\n",
    "maxiter = 1000\n",
    "M = 3\n",
    "N = 3\n",
    "\n",
    "x_0 = np.array([1,1,1],dtype=float).reshape(N,1)\n",
    "\n",
    "while np.any(abs(error) > tol) and i < maxiter:\n",
    "\n",
    "    fun_evaluate = np.array([func1(x_0),func2(x_0),func3(x_0)]).reshape(M,1)\n",
    "\n",
    "    flat_x_0 = x_0.flatten()\n",
    "\n",
    "    jac = np.array([jac_func1(flat_x_0),jac_func2(flat_x_0),jac_func3(flat_x_0)])\n",
    "    jac = jac.reshape(N,M)\n",
    "\n",
    "    x_new = x_0 - np.linalg.inv(jac) @ fun_evaluate\n",
    "\n",
    "    error = x_new - x_0\n",
    "\n",
    "    x_0 = x_new\n",
    "    print(i)\n",
    "    print(error)\n",
    "    print(\"----------\")\n",
    "\n",
    "    i = i + 1\n",
    "\n",
    "print(\"The solution is\\n\",\n",
    "        x_new,\n",
    "        \"\\nEq-1\", np.around(func1(x_new),3),\n",
    "        \"\\nEq-2\", np.around(func2(x_new),3),\n",
    "        \"\\nEq-3\", np.around(func3(x_new),3))\n",
    "\n"
   ]
  }
 ],
 "metadata": {
  "kernelspec": {
   "display_name": "Python 3.10.6 64-bit (windows store)",
   "language": "python",
   "name": "python3"
  },
  "language_info": {
   "codemirror_mode": {
    "name": "ipython",
    "version": 3
   },
   "file_extension": ".py",
   "mimetype": "text/x-python",
   "name": "python",
   "nbconvert_exporter": "python",
   "pygments_lexer": "ipython3",
   "version": "3.10.6"
  },
  "orig_nbformat": 4,
  "vscode": {
   "interpreter": {
    "hash": "f624cf11f2b3c1256597098dee48ba9f4ddc3bb4d80f286c42310d216e96ef26"
   }
  }
 },
 "nbformat": 4,
 "nbformat_minor": 2
}
