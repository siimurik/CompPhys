{
 "cells": [
  {
   "cell_type": "code",
   "execution_count": 12,
   "metadata": {},
   "outputs": [],
   "source": [
    "import autograd as ad\n",
    "\n",
    "from autograd import grad, jacobian\n",
    "import autograd.numpy as np"
   ]
  },
  {
   "cell_type": "code",
   "execution_count": 13,
   "metadata": {},
   "outputs": [
    {
     "data": {
      "text/plain": [
       "array([270., 675.])"
      ]
     },
     "execution_count": 13,
     "metadata": {},
     "output_type": "execute_result"
    }
   ],
   "source": [
    "def myfunc(x):\n",
    "    return x[0]**2*x[1]**3\n",
    "\n",
    "z = np.array([5,3],dtype=float)\n",
    "\n",
    "jacobian_func = jacobian(myfunc)\n",
    "jacobian_func(z)"
   ]
  },
  {
   "cell_type": "markdown",
   "metadata": {},
   "source": [
    "### Linear System of Equations\n",
    "$$\n",
    "x-2y+3z=7 \\\\\n",
    "2x + y + z = 4 \\\\\n",
    "-3x + 2y -2z = -10\n",
    "$$\n",
    "\n",
    "### Solution:\n",
    "$$\n",
    "\\left(x,y,z\\right) = \\left(2,-1,1\\right)\n",
    "$$"
   ]
  },
  {
   "cell_type": "code",
   "execution_count": 14,
   "metadata": {},
   "outputs": [],
   "source": [
    "func1 = lambda x:    x[0] - 2*x[1] + 3*x[2] - 7\n",
    "func2 = lambda x:  2*x[0] +   x[1] +   x[2] - 4\n",
    "func3 = lambda x: -3*x[0] + 2*x[1] - 2*x[2] + 10\n"
   ]
  },
  {
   "cell_type": "code",
   "execution_count": 15,
   "metadata": {},
   "outputs": [],
   "source": [
    "jac_func1 = jacobian(func1)\n",
    "jac_func2 = jacobian(func2)\n",
    "jac_func3 = jacobian(func3)\n"
   ]
  },
  {
   "cell_type": "markdown",
   "metadata": {},
   "source": [
    "### Multivariate Case: Newton Rhapson Updating Rule\n",
    "  $$\n",
    "  \\left[ {\\begin{array}{cc}\n",
    "    x_1 \\\\\n",
    "    . \\\\\n",
    "    . \\\\\n",
    "    .\\\\\n",
    "    x_N\n",
    "  \\end{array} } \\right] = \n",
    "    \\left[ {\\begin{array}{cc}\n",
    "    x_1 \\\\\n",
    "    . \\\\\n",
    "    . \\\\\n",
    "    .\\\\\n",
    "    x_M\n",
    "  \\end{array} } \\right]_{N \\cdot 1} - \n",
    "    \\left[ {\\begin{array}{cc}\n",
    "    J^{-1}(x_n)\n",
    "  \\end{array} } \\right]_{N \\cdot M}\n",
    "    \\left[ {\\begin{array}{cc}\n",
    "    f_1(x_n) \\\\\n",
    "    . \\\\\n",
    "    . \\\\\n",
    "    .\\\\\n",
    "    f_M(x_N)\n",
    "  \\end{array} } \\right]_{M \\cdot 1}\n",
    "  $$"
   ]
  },
  {
   "cell_type": "code",
   "execution_count": 16,
   "metadata": {},
   "outputs": [
    {
     "name": "stdout",
     "output_type": "stream",
     "text": [
      "0\n",
      "[[ 1.00000000e+00]\n",
      " [-2.00000000e+00]\n",
      " [-1.11022302e-16]]\n",
      "----------\n",
      "1\n",
      "[[0.]\n",
      " [0.]\n",
      " [0.]]\n",
      "----------\n",
      "The solution is\n",
      " [[ 2.]\n",
      " [-1.]\n",
      " [ 1.]] \n",
      "Eq-1 [0.] \n",
      "Eq-2 [0.] \n",
      "Eq-3 [0.]\n"
     ]
    }
   ],
   "source": [
    "i = 0\n",
    "error   = 100\n",
    "tol     = 1e-8\n",
    "maxiter = 1000\n",
    "M = 3\n",
    "N = 3\n",
    "\n",
    "x_0 = np.array([1,1,1],dtype=float).reshape(N,1)\n",
    "\n",
    "while np.any(abs(error) > tol) and i < maxiter:\n",
    "\n",
    "    fun_evaluate = np.array([func1(x_0),func2(x_0),func3(x_0)]).reshape(M,1)\n",
    "\n",
    "    flat_x_0 = x_0.flatten()\n",
    "\n",
    "    jac = np.array([jac_func1(flat_x_0),jac_func2(flat_x_0),jac_func3(flat_x_0)])\n",
    "    jac = jac.reshape(N,M)\n",
    "\n",
    "    x_new = x_0 - np.linalg.inv(jac) @ fun_evaluate\n",
    "\n",
    "    error = x_new - x_0\n",
    "\n",
    "    x_0 = x_new\n",
    "    print(i)\n",
    "    print(error)\n",
    "    print(\"----------\")\n",
    "\n",
    "    i = i + 1\n",
    "\n",
    "print(\"The solution is\\n\",\n",
    "        x_new,\n",
    "        \"\\nEq-1\", np.around(func1(x_new),3),\n",
    "        \"\\nEq-2\", np.around(func2(x_new),3),\n",
    "        \"\\nEq-3\", np.around(func3(x_new),3))\n",
    "\n"
   ]
  },
  {
   "cell_type": "markdown",
   "metadata": {},
   "source": [
    "### Linear System of Equations\n",
    "$$\n",
    "3x_1 - \\cos{x_2 x_3} + \\frac{3}{2} = 0 \\\\\n",
    "4x_{1}^{2} - 625x_{2}^{2} + 2x_{3} - 1 = 0 \\\\\n",
    "20 x_3 + e^{-x_{1}x_{2}} + 9 = 0\n",
    "$$\n",
    "\n",
    "### Solution:\n",
    "$$\n",
    "\\left(x_1,x_2,x_3\\right) = \\left(0.83328161,0.03533462,-0.49854928\\right)\n",
    "$$"
   ]
  },
  {
   "cell_type": "code",
   "execution_count": 17,
   "metadata": {},
   "outputs": [],
   "source": [
    "func111 = lambda x: 3*x[0] - np.cos(x[1]*x[2])-(3/2)\n",
    "func222 = lambda x: 4*(x[0]**2) - 625*(x[1]**2) + 2*x[2] - 1\n",
    "func333 = lambda x: 20*x[2] + np.exp(-x[0]*x[1]) + 9"
   ]
  },
  {
   "cell_type": "code",
   "execution_count": 21,
   "metadata": {},
   "outputs": [],
   "source": [
    "def NewtRhap_3(vector_func):\n",
    "\n",
    "    func11 = vector_func[0]\n",
    "    func22 = vector_func[1]\n",
    "    func33 = vector_func[2]\n",
    "\n",
    "    jac_func11 = jacobian(func11)\n",
    "    jac_func22 = jacobian(func22)\n",
    "    jac_func33 = jacobian(func33)\n",
    "\n",
    "    i = 0\n",
    "    error = 100\n",
    "    tol = 1e-10\n",
    "    maxiter = 1000\n",
    "    M = 3\n",
    "    N = 3\n",
    "\n",
    "    x_0 = np.array([1, 1, 1], dtype=float).reshape(N, 1)\n",
    "\n",
    "    while np.any(abs(error) > tol) and i < maxiter:\n",
    "\n",
    "        fun_evaluate = np.array(\n",
    "            [func11(x_0), func22(x_0), func33(x_0)]).reshape(M, 1)\n",
    "\n",
    "        flat_x_0 = x_0.flatten()\n",
    "\n",
    "        jac = np.array([jac_func11(flat_x_0), jac_func22(\n",
    "            flat_x_0), jac_func33(flat_x_0)])\n",
    "        jac = jac.reshape(N, M)\n",
    "\n",
    "        x_new = x_0 - np.linalg.inv(jac) @ fun_evaluate\n",
    "\n",
    "        error = x_new - x_0\n",
    "\n",
    "        x_0 = x_new\n",
    "    #    print(i)\n",
    "    #    print(error)\n",
    "    #    print(\"----------\")\n",
    "\n",
    "        i = i + 1\n",
    "\n",
    "    print('Iterations:', i,\n",
    "          '\\nError:\\n', error,\n",
    "          '\\n-------------------')\n",
    "    print(\"The solution is\\n\",\n",
    "          x_new,\n",
    "          \"\\nEq-1\", np.around(func11(x_new), 3),\n",
    "          \"\\nEq-2\", np.around(func22(x_new), 3),\n",
    "          \"\\nEq-3\", np.around(func33(x_new), 3))\n"
   ]
  },
  {
   "cell_type": "code",
   "execution_count": 22,
   "metadata": {},
   "outputs": [
    {
     "name": "stdout",
     "output_type": "stream",
     "text": [
      "Iterations: 10 \n",
      "Error:\n",
      " [[ 0.00000000e+00]\n",
      " [-6.93889390e-18]\n",
      " [-1.11022302e-16]] \n",
      "-------------------\n",
      "The solution is\n",
      " [[ 0.83328161]\n",
      " [ 0.03533462]\n",
      " [-0.49854928]] \n",
      "Eq-1 [0.] \n",
      "Eq-2 [-0.] \n",
      "Eq-3 [0.]\n"
     ]
    }
   ],
   "source": [
    "vec = [func111,func222,func333]\n",
    "NewtRhap_3(vec)"
   ]
  },
  {
   "cell_type": "code",
   "execution_count": 23,
   "metadata": {},
   "outputs": [
    {
     "name": "stdout",
     "output_type": "stream",
     "text": [
      "Iterations: 2 \n",
      "Error:\n",
      " [[0.]\n",
      " [0.]\n",
      " [0.]] \n",
      "-------------------\n",
      "The solution is\n",
      " [[ 2.]\n",
      " [-1.]\n",
      " [ 1.]] \n",
      "Eq-1 [0.] \n",
      "Eq-2 [0.] \n",
      "Eq-3 [0.]\n"
     ]
    }
   ],
   "source": [
    "vec1 = [func1, func2, func3]\n",
    "NewtRhap_3(vec1) "
   ]
  }
 ],
 "metadata": {
  "kernelspec": {
   "display_name": "Python 3.10.6 64-bit",
   "language": "python",
   "name": "python3"
  },
  "language_info": {
   "codemirror_mode": {
    "name": "ipython",
    "version": 3
   },
   "file_extension": ".py",
   "mimetype": "text/x-python",
   "name": "python",
   "nbconvert_exporter": "python",
   "pygments_lexer": "ipython3",
   "version": "3.10.6"
  },
  "vscode": {
   "interpreter": {
    "hash": "e7370f93d1d0cde622a1f8e1c04877d8463912d04d973331ad4851f04de6915a"
   }
  }
 },
 "nbformat": 4,
 "nbformat_minor": 2
}
